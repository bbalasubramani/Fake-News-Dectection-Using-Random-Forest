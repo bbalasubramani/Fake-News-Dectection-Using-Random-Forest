{
 "cells": [
  {
   "cell_type": "code",
   "execution_count": null,
   "id": "13843c77",
   "metadata": {
    "vscode": {
     "languageId": "plaintext"
    }
   },
   "outputs": [],
   "source": [
    "# Import necessary modules\n",
    "from src.data_loader import load_data\n",
    "from src.data_preprocessing import preprocess_data\n",
    "from src.model_training import train_model\n",
    "from src.model_evaluation import evaluate_model\n",
    "\n",
    "# Load data\n",
    "df_true, df_fake = load_data('data/True.csv', 'data/Fake.csv')\n",
    "\n",
    "# Preprocess data\n",
    "df = preprocess_data(df_true, df_fake)\n",
    "\n",
    "# Train model\n",
    "model = train_model(df)\n",
    "\n",
    "# Evaluate model\n",
    "evaluate_model(model)\n"
   ]
  }
 ],
 "metadata": {
  "language_info": {
   "name": "python"
  }
 },
 "nbformat": 4,
 "nbformat_minor": 5
}
