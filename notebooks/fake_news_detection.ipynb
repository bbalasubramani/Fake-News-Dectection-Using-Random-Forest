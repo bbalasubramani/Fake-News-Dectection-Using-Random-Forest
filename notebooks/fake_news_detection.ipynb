{
 "cells": [
  {
   "cell_type": "code",
   "execution_count": null,
   "id": "13843c77",
   "metadata": {
    "vscode": {
     "languageId": "plaintext"
    }
   },
   "outputs": [],
   "source": [
    "# Import necessary modules\n",
    "import sys\n",
    "import os\n",
    "\n",
    "# Ensure that we are adding the correct path to the src directory\n",
    "# Get the current working directory (e.g., .../fake news detector/notebooks)\n",
    "current_dir = os.getcwd()\n",
    "\n",
    "# Set the correct path to the src directory (go up one level to .../fake news detector/src)\n",
    "src_path = os.path.abspath(os.path.join(current_dir, '..', 'src'))\n",
    "sys.path.append(src_path)\n",
    "\n",
    "# Ensure the 'models' directory exists\n",
    "os.makedirs('models', exist_ok=True)\n",
    "\n",
    "# Import custom modules from src\n",
    "from data_loader import load_data\n",
    "from data_preprocessing import preprocess_data\n",
    "from model_training import train_model\n",
    "from model_evaluation import evaluate_model\n",
    "\n",
    "# Load data\n",
    "print(\"Loading data...\")\n",
    "df_true, df_fake = load_data('../data/True.csv', '../data/Fake.csv')\n",
    "print(f\"Loaded {len(df_true)} true news articles and {len(df_fake)} fake news articles.\")\n",
    "\n",
    "# Preprocess data\n",
    "print(\"Preprocessing data...\")\n",
    "df = preprocess_data(df_true, df_fake)\n",
    "print(\"Data preprocessing completed.\")\n",
    "print(f\"Preprocessed data contains {len(df)} total articles.\")\n",
    "\n",
    "# Train model\n",
    "print(\"Training model...\")\n",
    "model, x_test, y_test = train_model(df)\n",
    "print(\"Model training completed.\")\n",
    "\n",
    "# Evaluate model\n",
    "print(\"Evaluating model...\")\n",
    "evaluate_model(model, x_test, y_test)\n",
    "print(\"Model evaluation completed.\")\n"
   ]
  },
  {
   "cell_type": "code",
   "execution_count": null,
   "id": "5bfa3bf2-7818-4a58-b458-cb530ddfc9f1",
   "metadata": {},
   "outputs": [],
   "source": []
  }
 ],
 "metadata": {
  "kernelspec": {
   "display_name": "Python 3 (ipykernel)",
   "language": "python",
   "name": "python3"
  },
  "language_info": {
   "codemirror_mode": {
    "name": "ipython",
    "version": 3
   },
   "file_extension": ".py",
   "mimetype": "text/x-python",
   "name": "python",
   "nbconvert_exporter": "python",
   "pygments_lexer": "ipython3",
   "version": "3.11.0"
  }
 },
 "nbformat": 4,
 "nbformat_minor": 5
}
